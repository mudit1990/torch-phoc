{
 "cells": [
  {
   "cell_type": "code",
   "execution_count": 1,
   "metadata": {},
   "outputs": [],
   "source": [
    "from __future__ import division\n",
    "import argparse\n",
    "import logging\n",
    "\n",
    "import numpy as np\n",
    "import torch.autograd\n",
    "import torch.cuda\n",
    "import torch.nn as nn\n",
    "import torch.optim\n",
    "from torch.utils.data import DataLoader\n",
    "from tqdm import tqdm\n",
    "import random\n",
    "\n",
    "import copy\n",
    "from datasets.maps_alt import MAPSDataset\n",
    "\n",
    "#from cnn_ws.transformations.homography_augmentation import HomographyAugmentation\n",
    "from cnn_ws.losses.cosine_loss import CosineLoss\n",
    "\n",
    "from cnn_ws.models.myphocnet import PHOCNet\n",
    "from cnn_ws.evaluation.retrieval import map_from_feature_matrix, map_from_query_test_feature_matrices\n",
    "from torch.utils.data.dataloader import _DataLoaderIter as DataLoaderIter\n",
    "from torch.utils.data.sampler import WeightedRandomSampler\n",
    "\n",
    "from cnn_ws.utils.save_load import my_torch_save, my_torch_load\n",
    "\n",
    "import matplotlib.pyplot as plt\n",
    "\n",
    "# Some more magic so that the notebook will reload external python modules;\n",
    "# see http://stackoverflow.com/questions/1907993/autoreload-of-modules-in-ipython\n",
    "%load_ext autoreload\n",
    "%autoreload 2"
   ]
  },
  {
   "cell_type": "code",
   "execution_count": 2,
   "metadata": {},
   "outputs": [],
   "source": [
    "word_filter_len = 1 # only words above this length are considered valid\n",
    "max_var_len = 1"
   ]
  },
  {
   "cell_type": "code",
   "execution_count": 3,
   "metadata": {},
   "outputs": [],
   "source": [
    "if not torch.cuda.is_available():\n",
    "    logger.warning('Could not find CUDA environment, using CPU mode')\n",
    "    gpu_id = None\n",
    "else:\n",
    "    gpu_id = [0]\n",
    "#torch.cuda.get_device_name(gpu_id[0])\n",
    "pass"
   ]
  },
  {
   "cell_type": "code",
   "execution_count": 4,
   "metadata": {},
   "outputs": [],
   "source": [
    "model_ = torch.load('models/PHOCNet_Nov13.pt')\n",
    "cnn = model_.module#list(model_.named_parameters())\n",
    "if gpu_id is not None:\n",
    "        if len(gpu_id) > 1:\n",
    "            cnn = nn.DataParallel(cnn, device_ids=gpu_id)\n",
    "            cnn.cuda()\n",
    "        else:\n",
    "            cnn.cuda(gpu_id[0])\n",
    "cnn.training = False"
   ]
  },
  {
   "cell_type": "code",
   "execution_count": 5,
   "metadata": {},
   "outputs": [],
   "source": [
    "A = ['D0042-1070001']"
   ]
  },
  {
   "cell_type": "code",
   "execution_count": 6,
   "metadata": {},
   "outputs": [],
   "source": [
    "from strlocale import BasicLocale\n",
    "\n",
    "def clean_words(words):\n",
    "    lc = BasicLocale()\n",
    "    for i, w in enumerate(words):\n",
    "        try:\n",
    "            words[i] = lc.represent(w).encode('ascii',errors='ignore')\n",
    "        except:\n",
    "            words[i] = w\n",
    "    return words\n",
    "\n",
    "# load before, after images and words, transforms and cleans them\n",
    "# the function also assumes that ground truth words are the same before and after\n",
    "# returns before_images, after_images, words\n",
    "def load_and_transform(map_name):\n",
    "    images_before = np.load('../detection_outputs_ready_for_test/ray_regions_normal_before/'+map_name+'.npy')\n",
    "    words_before = np.load('../detection_outputs_ready_for_test/ray_labels_normal_before/'+map_name+'.npy')\n",
    "    words_before = clean_words(words_before)\n",
    "    images_before, words_before = clean_word_images(images_before, words_before)\n",
    "    images_before = np.transpose(images_before, (0,3,1,2))\n",
    "    \n",
    "    images_after = np.load('../detection_outputs_ready_for_test/ray_regions_normal_after/'+map_name+'.npy')\n",
    "    words_after = np.load('../detection_outputs_ready_for_test/ray_labels_normal_after/'+map_name+'.npy')\n",
    "    words_after = clean_words(words_after)\n",
    "    images_after, words_after = clean_word_images(images_after, words_after)\n",
    "    images_after = np.transpose(images_after, (0,3,1,2))\n",
    "    \n",
    "    print 'Images Before Shape ', images_before.shape\n",
    "    print 'Words Before Shape ', words_before.shape\n",
    "    print 'Images After Shape ', images_after.shape\n",
    "    print 'Words After Shape ', words_after.shape\n",
    "    return images_before, images_after, words_after\n",
    "\n",
    "def clean_word_images(images, words):\n",
    "    selected_idx = [x for x in range(len(words)) if len(words[x]) > word_filter_len]\n",
    "    images = images[selected_idx]\n",
    "    words = words[selected_idx]\n",
    "    return images, words"
   ]
  },
  {
   "cell_type": "code",
   "execution_count": 7,
   "metadata": {},
   "outputs": [
    {
     "name": "stdout",
     "output_type": "stream",
     "text": [
      "Images Before Shape  (1078, 3, 135, 487)\n",
      "Words Before Shape  (1078,)\n",
      "Images After Shape  (1078, 3, 135, 487)\n",
      "Words After Shape  (1078,)\n"
     ]
    }
   ],
   "source": [
    "images_before, images_after, words = load_and_transform(A[0])"
   ]
  },
  {
   "cell_type": "code",
   "execution_count": 8,
   "metadata": {},
   "outputs": [
    {
     "name": "stderr",
     "output_type": "stream",
     "text": [
      "100%|██████████| 1078/1078 [00:17<00:00, 63.14it/s]\n",
      "100%|██████████| 1078/1078 [00:17<00:00, 62.89it/s]\n"
     ]
    }
   ],
   "source": [
    "# convert image tnto embedding using the cnn model\n",
    "def get_image_embeddings(images):\n",
    "    outputs = []\n",
    "    for i in tqdm(range(len(images))):\n",
    "        word_img = images[i]\n",
    "        word_img = 1 - word_img.astype(np.float32) / 255.0\n",
    "        word_img = word_img.reshape((1,) + word_img.shape)\n",
    "        word_img = torch.from_numpy(word_img).float()\n",
    "        word_img = word_img.cuda(gpu_id[0])\n",
    "        word_img = torch.autograd.Variable(word_img)\n",
    "        output = torch.sigmoid(cnn(word_img))\n",
    "        output = output.data.cpu().numpy().flatten()\n",
    "        outputs.append(output)\n",
    "    return outputs\n",
    "\n",
    "outputs_before = get_image_embeddings(images_before)\n",
    "outputs_after = get_image_embeddings(images_after)"
   ]
  },
  {
   "cell_type": "code",
   "execution_count": 9,
   "metadata": {},
   "outputs": [],
   "source": [
    "def insert_dict_set(dct, key, val):\n",
    "    if key not in dct:\n",
    "        dct[key] = set()\n",
    "    dct[key].add(val)\n",
    "    \n",
    "# the method defines the rules to handle multiple dir associated with a given word\n",
    "# returns conf_words which is a set of word_var where this confusion exists\n",
    "# word_var: dictionary from word -> chosen_dir. Incase a word has multiple dir\n",
    "# the following preference order is followed 0 > (1,-1) > (2,-2) > (3,-3) ...\n",
    "def handle_word_conf(comp_word_var):\n",
    "    word_var = {}\n",
    "    conf_words = set()\n",
    "    for var in comp_word_var.keys():\n",
    "        dirs = np.array(list(comp_word_var[var]))\n",
    "        if(len(dirs) == 1):\n",
    "            word_var[var] = dirs[0]\n",
    "        else:\n",
    "            conf_words.add(var)\n",
    "            idx = np.argmin(np.abs(dirs))\n",
    "            word_var[var] = dirs[idx]\n",
    "    return word_var, conf_words\n",
    "\n",
    "# function to create word variations\n",
    "# word_var is a dictionary that contains all variations as key and 0,1,-1 as value\n",
    "# 0 denotes the root word, -1 denotes var = root_word[:-1], +1 denotes var = root_word[1:]\n",
    "# root_word_var is a dict that stores original_word => all_variations\n",
    "# enable_conf: boolean flag that controls if the confusion logic should be used.\n",
    "# when enabled if a word is a root word as well as a word variation (happens if root words ar rand and grand)\n",
    "# it marks it as to be extended and also stores it in the confusion list\n",
    "def create_word_variations(words, enable_conf=False):\n",
    "    word_var = {}\n",
    "    root_word_var = {}\n",
    "    # create the root word variation dict and set word_var as -1 or +1\n",
    "    for w in words:\n",
    "        root_var_list = [w, w.lower(), w.upper(), w.capitalize()]\n",
    "        var_set = set()\n",
    "        for var in root_var_list:\n",
    "            for l in range(1,max_var_len+1):\n",
    "                if len(w) <= l:\n",
    "                    continue\n",
    "                insert_dict_set(word_var, var, 0)\n",
    "                insert_dict_set(word_var, var[l:], l)\n",
    "                insert_dict_set(word_var, var[:-l], -l)\n",
    "                var_set.add(var)\n",
    "                var_set.add(var[l:])\n",
    "                var_set.add(var[:-l])\n",
    "        root_word_var[w] = var_set\n",
    "    word_var, conf_words = handle_word_conf(word_var)\n",
    "    return word_var, root_word_var, conf_words"
   ]
  },
  {
   "cell_type": "code",
   "execution_count": 10,
   "metadata": {},
   "outputs": [
    {
     "name": "stderr",
     "output_type": "stream",
     "text": [
      "100%|██████████| 1813/1813 [00:00<00:00, 5169.37it/s]"
     ]
    },
    {
     "name": "stdout",
     "output_type": "stream",
     "text": [
      "('embedding variations:', (1813, 945))\n"
     ]
    },
    {
     "name": "stderr",
     "output_type": "stream",
     "text": [
      "\n"
     ]
    }
   ],
   "source": [
    "# compute the PHOC representation of the word itself\n",
    "from cnn_ws.string_embeddings.phoc import build_phoc_descriptor\n",
    "def get_word_phoc_representations(word_strings):\n",
    "    unigrams = [chr(i) for i in range(ord('&'), ord('&')+1) + range(ord('A'), ord('Z')+1) + \\\n",
    "                    range(ord('a'), ord('z') + 1) + range(ord('0'), ord('9') + 1)]\n",
    "    bigram_levels = None\n",
    "    bigrams = None\n",
    "    phoc_unigram_levels=(1, 2, 4, 8)\n",
    "    word_var_dir, root_word_var, conf_words = create_word_variations(word_strings, enable_conf=False)\n",
    "    \n",
    "    word_var_strings = word_var_dir.keys()\n",
    "    embedding_var = build_phoc_descriptor(words=word_var_strings,\n",
    "                                  phoc_unigrams=unigrams,\n",
    "                                  bigram_levels=bigram_levels,\n",
    "                                  phoc_bigrams=bigrams,\n",
    "                                  unigram_levels=phoc_unigram_levels)\n",
    "    \n",
    "    print('embedding variations:', embedding_var.shape)\n",
    "    return (embedding_var, word_var_strings, word_var_dir, root_word_var, conf_words)\n",
    "\n",
    "emb_info = get_word_phoc_representations(words)"
   ]
  },
  {
   "cell_type": "code",
   "execution_count": 11,
   "metadata": {},
   "outputs": [],
   "source": [
    "# gets the embeddings for images before, images after and the ground truth word embeddings\n",
    "def get_emb_images_words(outputs_before, outputs_after, words, emb_info):\n",
    "    embedding_var, word_var_strings, word_var_dir, root_word_var, _ = emb_info\n",
    "    emb_list = []\n",
    "    for i in range(len(words)):\n",
    "        for j in range(len(word_var_strings)):\n",
    "            if(word_var_strings[j] == words[i]):\n",
    "                emb_list.append([outputs_before[i], outputs_after[i], embedding_var[j]])\n",
    "                break\n",
    "    return emb_list\n",
    "emb_list = get_emb_images_words(outputs_before, outputs_after, words, emb_info)"
   ]
  },
  {
   "cell_type": "code",
   "execution_count": 15,
   "metadata": {},
   "outputs": [],
   "source": [
    "phoc_len = 63 # number of characters supported by phoc\n",
    "\n",
    "# function to display the heatmap\n",
    "def show_heatmap(emb, title, labels):\n",
    "    plt.figure(figsize=(20, 20), dpi=100, facecolor='w', edgecolor='k')\n",
    "    plt.xticks(np.arange(0, emb.shape[1]+1, 1), np.array(labels))\n",
    "    plt.yticks(np.arange(0, emb.shape[0]+1, 1))\n",
    "    # plt.title(title)\n",
    "    plt.imshow(emb, cmap='binary', interpolation='nearest')\n",
    "    plt.show()\n",
    "\n",
    "# given an embedding array for an image, plots a heatmap of the embeddings\n",
    "# for the actual text word, embeddings of original image and embedding\n",
    "# of image after transformation (extension).\n",
    "# all_embs: all the embeddings of a particular image obtained from get_emb_images_words\n",
    "# word: The ground truth word\n",
    "# level: The PHOC level that needs to be plotted [1,2,3,4]\n",
    "# only_alphabets: boolean if True plots only alphabets on the heatmap (leaving out the digits and special characters)\n",
    "def embedding_heatmap(all_embs, word, level, only_alphabets):\n",
    "    if level == 1:\n",
    "        l = 0\n",
    "        r = phoc_len\n",
    "    elif level == 2:\n",
    "        l = phoc_len\n",
    "        r = phoc_len*3\n",
    "    elif level == 3:\n",
    "        l = phoc_len*3\n",
    "        r = phoc_len*7\n",
    "    else:\n",
    "        l = phoc_len*7\n",
    "        r = phoc_len*15\n",
    "\n",
    "    print 'Level',level,' PHOC embeddings for',word\n",
    "    rows = (int)((r-l)/phoc_len)\n",
    "    emb_word = all_embs[2][l:r].reshape(rows,phoc_len)\n",
    "    emb_before = all_embs[0][l:r].reshape(rows,phoc_len)\n",
    "    emb_after = all_embs[1][l:r].reshape(rows,phoc_len)\n",
    "\n",
    "    if only_alphabets:\n",
    "        unigrams = [chr(i) for i in range(ord('A'), ord('Z')+1) + range(ord('a'), ord('z') + 1)]\n",
    "        lidx = 1\n",
    "        ridx = 53\n",
    "    else:\n",
    "        unigrams = [chr(i) for i in range(ord('&'), ord('&')+1) + range(ord('A'), ord('Z')+1) + \\\n",
    "                    range(ord('a'), ord('z') + 1) + range(ord('0'), ord('9') + 1)]\n",
    "        lidx = 0\n",
    "        ridx = 63\n",
    "    \n",
    "    show_heatmap(emb_word[:,lidx:ridx], 'Heatmap for word text embedding', unigrams)\n",
    "    show_heatmap(emb_before[:,lidx:ridx], 'Heatmap for before image embedding', unigrams)\n",
    "    show_heatmap(emb_after[:,lidx:ridx], 'Heatmap for after image embedding', unigrams)"
   ]
  },
  {
   "cell_type": "markdown",
   "metadata": {},
   "source": [
    "## Plot Description\n",
    "* Three plots will be made\n",
    "    * Heatmap for word text embedding\n",
    "    * Heatmap for before image embedding\n",
    "    * Heatmap for after image embedding\n",
    "* Each plot may be nxd depending on the level being visualized e.g At level 1, n=1. At level 2, n=2, At level 3, n=4 and at level 4, n=8\n",
    "* Black squares on the heatmap represent 1, while white squares represent 0, and greys the values in between\n",
    "* embedding_heatmap plots the embedding. Just use the index of images to get embeddings and ground truth word to pass into embedding_heatmap. Image indexes can be found from the last celll in the notebook. e.g The below cell plots embeddings for RANDOLPH (index 22) at level 1.\n",
    "\n",
    "## Analysis\n",
    "* Still working on analyzing the embeddings\n",
    "* Some things that I could observe is that the embeddings in general become more noisy (deviate more from ground truth embedding) after the extension was done"
   ]
  },
  {
   "cell_type": "code",
   "execution_count": 18,
   "metadata": {},
   "outputs": [
    {
     "name": "stdout",
     "output_type": "stream",
     "text": [
      "Level 2  PHOC embeddings for FAIRFIELD\n"
     ]
    },
    {
     "data": {
      "image/png": "[encoded data removed]",
      "text/plain": [
       "<Figure size 2000x2000 with 1 Axes>"
      ]
     },
     "metadata": {},
     "output_type": "display_data"
    },
    {
     "data": {
      "image/png": "[encoded data removed]",
      "text/plain": [
       "<Figure size 2000x2000 with 1 Axes>"
      ]
     },
     "metadata": {},
     "output_type": "display_data"
    }
   ],
   "source": [
    "# print(len(emb_list), len(words))\n",
    "embedding_heatmap(emb_list[63], words[63], 2, True)"
   ]
  }
 ],
 "metadata": {
  "kernelspec": {
   "display_name": "Python 2",
   "language": "python",
   "name": "python2"
  },
  "language_info": {
   "codemirror_mode": {
    "name": "ipython",
    "version": 2
   },
   "file_extension": ".py",
   "mimetype": "text/x-python",
   "name": "python",
   "nbconvert_exporter": "python",
   "pygments_lexer": "ipython2",
   "version": "2.7.15"
  }
 },
 "nbformat": 4,
 "nbformat_minor": 2
}
