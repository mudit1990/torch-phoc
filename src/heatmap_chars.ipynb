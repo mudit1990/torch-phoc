{
 "cells": [
  {
   "cell_type": "code",
   "execution_count": 1,
   "metadata": {
    "collapsed": true
   },
   "outputs": [],
   "source": [
    "import numpy as np\n",
    "import matplotlib.pyplot as plt\n",
    "import matplotlib.patches as patches\n",
    "from PIL import Image\n",
    "import cv2"
   ]
  },
  {
   "cell_type": "code",
   "execution_count": 2,
   "metadata": {
    "collapsed": true
   },
   "outputs": [],
   "source": [
    "def int_coords(coord_old,coord_new):\n",
    "    \n",
    "    if np.sum(coord_old == coord_new)==coord_old.size:\n",
    "        return [(0,0),(0,0)]\n",
    "    else:\n",
    "        print('Coords old:',np.sum(coord_old==coord_new),len(coord_old),coord_old)\n",
    "    height_old = coord_old[1][1]-coord_old[0][1]\n",
    "    width_old = coord_old[1][0]-coord_old[0][0]\n",
    "    height_new = coord_new[1][1]-coord_new[0][1]\n",
    "    width_new = coord_new[1][0]-coord_new[0][0]\n",
    "    if width_new>width_old:\n",
    "        if (coord_new[1][0])>(coord_old[1][0]):\n",
    "            new_left_x = coord_old[1][0]\n",
    "            new_right_x = coord_new[1][0]\n",
    "            new_left_y = coord_new[0][1]\n",
    "            new_right_y = coord_new[1][1]\n",
    "#             print('old',coord_old,'new',coord_new,'right',[(new_left_x,new_left_y),(new_right_x,new_right_y)])\n",
    "            \n",
    "        else:\n",
    "            new_left_x = coord_old[0][0]\n",
    "            new_right_x = coord_new[0][0]\n",
    "            new_left_y = coord_new[0][1]\n",
    "            new_right_y = coord_new[0][1]+height_new\n",
    "#             print('old',coord_old,'new',coord_new,'left',[(new_left_x,new_left_y),(new_right_x,new_right_y)])\n",
    "#     elif height_new>height_old:\n",
    "#         if (coord_new[1][1])>(coord_old[1][1]):\n",
    "#             new_left_x = coord_old[1][0]\n",
    "#             new_right_x = coord_new[1][0]\n",
    "#             new_left_y = coord_old[1][1]-width_old\n",
    "#             new_right_y = coord_new[1][1]\n",
    "#         else:\n",
    "#             new_left_x = coord_new[0][0]\n",
    "#             new_right_x = coord_old[0][0]+width_old\n",
    "#             new_left_y = coord_new[0][1]\n",
    "#             new_right_y = coord_old[0][1]\n",
    "    else:\n",
    "        new_left_x = coord_old[0][0]\n",
    "        new_right_x = coord_old[1][0]\n",
    "        new_left_y = coord_old[0][1]\n",
    "        new_right_y = coord_old[1][1]\n",
    "    return [(new_left_x,new_left_y),(new_right_x,new_right_y)]"
   ]
  },
  {
   "cell_type": "code",
   "execution_count": 3,
   "metadata": {
    "collapsed": true
   },
   "outputs": [],
   "source": [
    "import string\n",
    "# For one char\n",
    "def maps(words_old,words_new,coords_old,coords_new,dir,gt,id,coords_all,coords_new_all):\n",
    "    '''\n",
    "    words_old = list of words matched which are the variations of original word\n",
    "    words_new = list of words matched after extending the region to include 1 more char\n",
    "    coords_old = region coordinates in a list of list of tuples of (top left, bottom right) before extending the region\n",
    "    coords_new = region after extending to include one char\n",
    "    returns:\n",
    "    c_map = dictionary of characters to coordinates\n",
    "    '''\n",
    "    c_map = {}\n",
    "    g_map = {}\n",
    "    for a in string.ascii_lowercase:\n",
    "        c_map[a] = []\n",
    "    for A in string.ascii_uppercase:\n",
    "        c_map[A] = []\n",
    "    for i,word in enumerate(words_old):  \n",
    "        if dir[i]:\n",
    "            if word == words_new[i][1:]:\n",
    "                char_coords = int_coords(coords_old[i],coords_new[i])\n",
    "                l = c_map.get(words_new[i][0],[])\n",
    "                l.append(char_coords)\n",
    "# #                 print('left',char_coords,'old',coords_all[i],'new',coords_new_all[i],words_new[i][0],'gt',gt[i],'old',words_old[i],'new',words_new[i],'id',id[i],'dir',dir[i])\n",
    "                c_map[words_new[i][0]] = l\n",
    "            elif word == words_new[i][:-1]:\n",
    "                char_coords = int_coords(coords_old[i],coords_new[i])\n",
    "                l = c_map.get(words_new[i][-1],[])\n",
    "                l.append(char_coords)\n",
    "#                 print('left',char_coords,'old',coords_all[i],'new',coords_new_all[i],words_new[i][-1],'gt',gt[i],'old',words_old[i],'new',words_new[i],'id',id[i],'dir',dir[i])\n",
    "                c_map[words_new[i][-1]] = l\n",
    "    return c_map"
   ]
  },
  {
   "cell_type": "code",
   "execution_count": 4,
   "metadata": {},
   "outputs": [
    {
     "name": "stdout",
     "output_type": "stream",
     "text": [
      "((469, 2, 2), (469, 2, 2), (3, 469))\n"
     ]
    },
    {
     "data": {
      "text/plain": [
       "array([[  0,   1,   2, ..., 531, 532, 533],\n",
       "       [  0,   0,   0, ...,   1,  -1,   0],\n",
       "       [  5,   5,   4, ...,   6,   3,   3]])"
      ]
     },
     "execution_count": 4,
     "metadata": {},
     "output_type": "execute_result"
    }
   ],
   "source": [
    "coords_old_all = np.load('../detection_outputs/D0090-5242001.npy')\n",
    "coords_new_all = np.load('../detection_outputs_new/D0090-5242001.npy')\n",
    "coords_new = np.array([[coords_new_all[i][3],coords_new_all[i][1]] for i in range(coords_new_all.shape[0])])\n",
    "ids = np.load('../images_to_extend/image_dir_D0090-5242001.npy')\n",
    "coords_old = np.array([[coords_old_all[i][3],coords_old_all[i][1]] for i in ids[0]])\n",
    "print(coords_old.shape,coords_new.shape,ids.shape)\n",
    "ids"
   ]
  },
  {
   "cell_type": "code",
   "execution_count": 5,
   "metadata": {
    "collapsed": true
   },
   "outputs": [],
   "source": [
    "import pandas as pd\n",
    "import ast\n",
    "# csv = pd.read_csv('../data/D0090-5242001.csv',names=['ids','dir','old','new','gt'])\n",
    "csv = pd.read_csv('/media/d/DATA/NN/torch-phoc/mudit/torch-phoc/extension_info/D0090-5242001.csv',names=['ids','dir','old','new','gt'])\n",
    "words_old = [ast.literal_eval(word)[0] for word in csv['old']]\n",
    "words_new = [ast.literal_eval(word)[0] for word in csv['new']]\n",
    "dir = list(csv['dir'])\n",
    "gt = list(csv['gt'])\n",
    "# gt = [ast.literal_eval(word)[0] for word in csv['gt']]"
   ]
  },
  {
   "cell_type": "code",
   "execution_count": 6,
   "metadata": {},
   "outputs": [
    {
     "name": "stdout",
     "output_type": "stream",
     "text": [
      "('Coords old:', 3, 2, array([[1429, 2520],\n",
      "       [1540, 2557]]))\n",
      "('Coords old:', 3, 2, array([[1296, 1664],\n",
      "       [1412, 1682]]))\n",
      "('Coords old:', 3, 2, array([[3738, 1643],\n",
      "       [3837, 1670]]))\n",
      "('Coords old:', 3, 2, array([[1135,  875],\n",
      "       [1271,  907]]))\n",
      "('Coords old:', 3, 2, array([[2277, 1602],\n",
      "       [2394, 1634]]))\n",
      "('Coords old:', 3, 2, array([[3738, 2463],\n",
      "       [3844, 2491]]))\n"
     ]
    }
   ],
   "source": [
    "# Sample data\n",
    "# words_old = ['wor','ord']\n",
    "# words_new = ['word','word']\n",
    "# coords_old = [[(1000,2000),(2000,3000)],[(2000,2400),(2400,2500)]]\n",
    "# coords_new = [[(1000,2000),(2500,3000)],[(2000,2000),(2400,2500)]]\n",
    "d = maps(words_old,words_new,coords_old,coords_new,dir,gt,ids[0],coords_old_all,coords_new_all)"
   ]
  },
  {
   "cell_type": "code",
   "execution_count": 7,
   "metadata": {},
   "outputs": [
    {
     "name": "stdout",
     "output_type": "stream",
     "text": [
      "{'.': [[(3844, 2463), (3865, 2491)]], 'A': [], 'C': [], 'B': [], 'E': [[(2394, 1602), (2417, 1634)]], 'D': [], 'G': [], 'F': [], 'I': [], 'H': [], 'K': [], 'J': [], 'M': [], 'L': [], 'O': [], 'N': [], 'Q': [], 'P': [], 'S': [[(1296, 1664), (1258, 1682)]], 'R': [], 'U': [], 'T': [[(1429, 2520), (1402, 2557)]], 'W': [], 'V': [], 'Y': [], 'X': [], 'Z': [], 'a': [], 'c': [], 'b': [], 'e': [], 'd': [], 'g': [], 'f': [], 'i': [], 'h': [], 'k': [], 'j': [], 'm': [], 'l': [], 'o': [], 'n': [[(0, 0), (0, 0)], [(1271, 875), (1288, 907)]], 'q': [], 'p': [], 's': [], 'r': [], 'u': [], 't': [], 'w': [], 'v': [], 'y': [[(3837, 1643), (3853, 1670)]], 'x': [], 'z': []}\n"
     ]
    }
   ],
   "source": [
    "print(d)"
   ]
  },
  {
   "cell_type": "code",
   "execution_count": 8,
   "metadata": {
    "collapsed": true
   },
   "outputs": [],
   "source": [
    "def plot_char(char,c_map,map_name,img=None):\n",
    "    if type(img)!=np.ndarray:\n",
    "        im = Image.open(map_name)\n",
    "        img = np.array(im)\n",
    "    coords = c_map[char]\n",
    "    for coord in coords:\n",
    "#             print(coords)\n",
    "#             print(coord[0],'0',coord[1])\n",
    "            cv2.rectangle(img,coord[0],coord[1],(255,0,0),5)\n",
    "#     If each character has to be saved:\n",
    "#     im = Image.fromarray(img)\n",
    "#     im.save('h_'+'D0090-5242001.tiff')\n",
    "    return img"
   ]
  },
  {
   "cell_type": "code",
   "execution_count": 9,
   "metadata": {},
   "outputs": [
    {
     "name": "stdout",
     "output_type": "stream",
     "text": [
      "{'.': [[(3844, 2463), (3865, 2491)]], 'A': [], 'C': [], 'B': [], 'E': [[(2394, 1602), (2417, 1634)]], 'D': [], 'G': [], 'F': [], 'I': [], 'H': [], 'K': [], 'J': [], 'M': [], 'L': [], 'O': [], 'N': [], 'Q': [], 'P': [], 'S': [[(1296, 1664), (1258, 1682)]], 'R': [], 'U': [], 'T': [[(1429, 2520), (1402, 2557)]], 'W': [], 'V': [], 'Y': [], 'X': [], 'Z': [], 'a': [], 'c': [], 'b': [], 'e': [], 'd': [], 'g': [], 'f': [], 'i': [], 'h': [], 'k': [], 'j': [], 'm': [], 'l': [], 'o': [], 'n': [[(0, 0), (0, 0)], [(1271, 875), (1288, 907)]], 'q': [], 'p': [], 's': [], 'r': [], 'u': [], 't': [], 'w': [], 'v': [], 'y': [[(3837, 1643), (3853, 1670)]], 'x': [], 'z': []}\n",
      "<type 'numpy.ndarray'>\n"
     ]
    }
   ],
   "source": [
    "print(d)\n",
    "map_name = '../data/maps/D0090-5242001.tiff'\n",
    "im = Image.open(map_name)\n",
    "img = np.array(im)\n",
    "print(type(img))\n",
    "for c in d.keys():\n",
    "    img =  plot_char(c,d,'../data/maps/D0090-5242001.tiff',img)\n",
    "im = Image.fromarray(img)\n",
    "im.save('chars_'+'D0090-5242001.tiff')\n",
    "\n",
    "# f = plt.figure()\n",
    "# f.savefig('d_'+'D0090-5242001.eps',format='eps',dpi=300)\n",
    "# f"
   ]
  },
  {
   "cell_type": "code",
   "execution_count": 10,
   "metadata": {},
   "outputs": [],
   "source": [
    "for i in range(coords_old.shape[0]):\n",
    "    d[words_old[i]]=[[(coords_old[i][0][0],coords_old[i][0][1]),(coords_old[i][1][0],coords_old[i][1][1])]]\n",
    "for c in d.keys():\n",
    "    img =  plot_char(c,d,'../data/maps/D0090-5242001.tiff',img)\n",
    "im = Image.fromarray(img)\n",
    "im.save('all_'+'D0090-5242001.tiff')"
   ]
  },
  {
   "cell_type": "code",
   "execution_count": 11,
   "metadata": {
    "collapsed": true
   },
   "outputs": [],
   "source": [
    "d = np.array(d)\n",
    "np.save('dict.npy',d)"
   ]
  },
  {
   "cell_type": "code",
   "execution_count": null,
   "metadata": {
    "collapsed": true
   },
   "outputs": [],
   "source": []
  }
 ],
 "metadata": {
  "anaconda-cloud": {},
  "kernelspec": {
   "display_name": "Python 2",
   "language": "python",
   "name": "python2"
  },
  "language_info": {
   "codemirror_mode": {
    "name": "ipython",
    "version": 2
   },
   "file_extension": ".py",
   "mimetype": "text/x-python",
   "name": "python",
   "nbconvert_exporter": "python",
   "pygments_lexer": "ipython2",
   "version": "2.7.14"
  }
 },
 "nbformat": 4,
 "nbformat_minor": 1
}
